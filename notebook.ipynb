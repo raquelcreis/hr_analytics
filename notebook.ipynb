{
 "metadata": {
  "language_info": {
   "codemirror_mode": {
    "name": "ipython",
    "version": 3
   },
   "file_extension": ".py",
   "mimetype": "text/x-python",
   "name": "python",
   "nbconvert_exporter": "python",
   "pygments_lexer": "ipython3",
   "version": "3.7.6"
  },
  "orig_nbformat": 4,
  "kernelspec": {
   "name": "python3",
   "display_name": "Python 3.7  ('base': conda)"
  },
  "interpreter": {
   "hash": "c84ec5531762457a514972294189478bb2b86b2856b4d2c66c8829aed73cefe4"
  }
 },
 "nbformat": 4,
 "nbformat_minor": 2,
 "cells": [
  {
   "cell_type": "code",
   "execution_count": 3,
   "metadata": {},
   "outputs": [],
   "source": [
    "import pandas as pd\n",
    "import numpy as np"
   ]
  },
  {
   "cell_type": "code",
   "execution_count": 5,
   "metadata": {},
   "outputs": [
    {
     "output_type": "execute_result",
     "data": {
      "text/plain": [
       "                                      0           1                  2  \\\n",
       "employee_id                       65438       65141               7513   \n",
       "department            Sales & Marketing  Operations  Sales & Marketing   \n",
       "region                         region_7   region_22          region_19   \n",
       "education              Master's & above  Bachelor's         Bachelor's   \n",
       "gender                                f           m                  m   \n",
       "recruitment_channel            sourcing       other           sourcing   \n",
       "no_of_trainings                       1           1                  1   \n",
       "age                                  35          30                 34   \n",
       "previous_year_rating                  5           5                  3   \n",
       "length_of_service                     8           4                  7   \n",
       "awards_won?                           0           0                  0   \n",
       "avg_training_score                   49          60                 50   \n",
       "is_promoted                           0           0                  0   \n",
       "\n",
       "                                      3           4  \n",
       "employee_id                        2542       48945  \n",
       "department            Sales & Marketing  Technology  \n",
       "region                        region_23   region_26  \n",
       "education                    Bachelor's  Bachelor's  \n",
       "gender                                m           m  \n",
       "recruitment_channel               other       other  \n",
       "no_of_trainings                       2           1  \n",
       "age                                  39          45  \n",
       "previous_year_rating                  1           3  \n",
       "length_of_service                    10           2  \n",
       "awards_won?                           0           0  \n",
       "avg_training_score                   50          73  \n",
       "is_promoted                           0           0  "
      ],
      "text/html": "<div>\n<style scoped>\n    .dataframe tbody tr th:only-of-type {\n        vertical-align: middle;\n    }\n\n    .dataframe tbody tr th {\n        vertical-align: top;\n    }\n\n    .dataframe thead th {\n        text-align: right;\n    }\n</style>\n<table border=\"1\" class=\"dataframe\">\n  <thead>\n    <tr style=\"text-align: right;\">\n      <th></th>\n      <th>0</th>\n      <th>1</th>\n      <th>2</th>\n      <th>3</th>\n      <th>4</th>\n    </tr>\n  </thead>\n  <tbody>\n    <tr>\n      <th>employee_id</th>\n      <td>65438</td>\n      <td>65141</td>\n      <td>7513</td>\n      <td>2542</td>\n      <td>48945</td>\n    </tr>\n    <tr>\n      <th>department</th>\n      <td>Sales &amp; Marketing</td>\n      <td>Operations</td>\n      <td>Sales &amp; Marketing</td>\n      <td>Sales &amp; Marketing</td>\n      <td>Technology</td>\n    </tr>\n    <tr>\n      <th>region</th>\n      <td>region_7</td>\n      <td>region_22</td>\n      <td>region_19</td>\n      <td>region_23</td>\n      <td>region_26</td>\n    </tr>\n    <tr>\n      <th>education</th>\n      <td>Master's &amp; above</td>\n      <td>Bachelor's</td>\n      <td>Bachelor's</td>\n      <td>Bachelor's</td>\n      <td>Bachelor's</td>\n    </tr>\n    <tr>\n      <th>gender</th>\n      <td>f</td>\n      <td>m</td>\n      <td>m</td>\n      <td>m</td>\n      <td>m</td>\n    </tr>\n    <tr>\n      <th>recruitment_channel</th>\n      <td>sourcing</td>\n      <td>other</td>\n      <td>sourcing</td>\n      <td>other</td>\n      <td>other</td>\n    </tr>\n    <tr>\n      <th>no_of_trainings</th>\n      <td>1</td>\n      <td>1</td>\n      <td>1</td>\n      <td>2</td>\n      <td>1</td>\n    </tr>\n    <tr>\n      <th>age</th>\n      <td>35</td>\n      <td>30</td>\n      <td>34</td>\n      <td>39</td>\n      <td>45</td>\n    </tr>\n    <tr>\n      <th>previous_year_rating</th>\n      <td>5</td>\n      <td>5</td>\n      <td>3</td>\n      <td>1</td>\n      <td>3</td>\n    </tr>\n    <tr>\n      <th>length_of_service</th>\n      <td>8</td>\n      <td>4</td>\n      <td>7</td>\n      <td>10</td>\n      <td>2</td>\n    </tr>\n    <tr>\n      <th>awards_won?</th>\n      <td>0</td>\n      <td>0</td>\n      <td>0</td>\n      <td>0</td>\n      <td>0</td>\n    </tr>\n    <tr>\n      <th>avg_training_score</th>\n      <td>49</td>\n      <td>60</td>\n      <td>50</td>\n      <td>50</td>\n      <td>73</td>\n    </tr>\n    <tr>\n      <th>is_promoted</th>\n      <td>0</td>\n      <td>0</td>\n      <td>0</td>\n      <td>0</td>\n      <td>0</td>\n    </tr>\n  </tbody>\n</table>\n</div>"
     },
     "metadata": {},
     "execution_count": 5
    }
   ],
   "source": [
    "train = pd.read_csv('train.csv')\n",
    "test = pd.read_csv('test.csv')\n",
    "train.head().T"
   ]
  },
  {
   "cell_type": "code",
   "execution_count": 6,
   "metadata": {},
   "outputs": [
    {
     "output_type": "stream",
     "name": "stdout",
     "text": [
      "<class 'pandas.core.frame.DataFrame'>\nRangeIndex: 54808 entries, 0 to 54807\nData columns (total 13 columns):\n #   Column                Non-Null Count  Dtype  \n---  ------                --------------  -----  \n 0   employee_id           54808 non-null  int64  \n 1   department            54808 non-null  object \n 2   region                54808 non-null  object \n 3   education             52399 non-null  object \n 4   gender                54808 non-null  object \n 5   recruitment_channel   54808 non-null  object \n 6   no_of_trainings       54808 non-null  int64  \n 7   age                   54808 non-null  int64  \n 8   previous_year_rating  50684 non-null  float64\n 9   length_of_service     54808 non-null  int64  \n 10  awards_won?           54808 non-null  int64  \n 11  avg_training_score    54808 non-null  int64  \n 12  is_promoted           54808 non-null  int64  \ndtypes: float64(1), int64(7), object(5)\nmemory usage: 5.4+ MB\n"
     ]
    }
   ],
   "source": [
    "train.info()"
   ]
  },
  {
   "cell_type": "code",
   "execution_count": null,
   "metadata": {},
   "outputs": [],
   "source": [
    "  "
   ]
  }
 ]
}